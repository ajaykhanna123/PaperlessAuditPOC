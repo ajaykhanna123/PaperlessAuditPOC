{
 "cells": [
  {
   "cell_type": "code",
   "execution_count": null,
   "id": "acc46885",
   "metadata": {},
   "outputs": [],
   "source": [
    "dir_name=r'C:\\Users\\Ajay\\Downloads\\archive (10).zip'\n",
    "directory_to_extract_to=r'C:\\Users\\Ajay\\Documents\\Code\\EXL\\Projects\\Data'\n",
    "import zipfile\n",
    "with zipfile.ZipFile(dir_name, 'r') as zip_ref:\n",
    "    zip_ref.extractall(directory_to_extract_to)"
   ]
  },
  {
   "cell_type": "code",
   "execution_count": null,
   "id": "aaf97c68",
   "metadata": {},
   "outputs": [],
   "source": []
  }
 ],
 "metadata": {
  "kernelspec": {
   "display_name": "Python 3 (ipykernel)",
   "language": "python",
   "name": "python3"
  },
  "language_info": {
   "codemirror_mode": {
    "name": "ipython",
    "version": 3
   },
   "file_extension": ".py",
   "mimetype": "text/x-python",
   "name": "python",
   "nbconvert_exporter": "python",
   "pygments_lexer": "ipython3",
   "version": "3.9.13"
  }
 },
 "nbformat": 4,
 "nbformat_minor": 5
}
