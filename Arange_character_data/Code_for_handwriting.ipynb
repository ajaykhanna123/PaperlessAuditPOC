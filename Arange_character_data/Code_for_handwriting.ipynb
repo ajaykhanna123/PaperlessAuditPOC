{
 "cells": [
  {
   "cell_type": "code",
   "execution_count": 1,
   "id": "16948535",
   "metadata": {},
   "outputs": [
    {
     "name": "stdout",
     "output_type": "stream",
     "text": [
      "Requirement already satisfied: pillow in c:\\users\\ajay\\anaconda3\\lib\\site-packages (9.2.0)Note: you may need to restart the kernel to use updated packages.\n",
      "\n"
     ]
    }
   ],
   "source": [
    "pip install pillow"
   ]
  },
  {
   "cell_type": "code",
   "execution_count": 2,
   "id": "ae5e748b",
   "metadata": {},
   "outputs": [],
   "source": [
    "#Importing Library\n",
    "from PIL import Image\n",
    "from sys import argv\n",
    "\n",
    "\n",
    "\n",
    "\n"
   ]
  },
  {
   "cell_type": "code",
   "execution_count": 39,
   "id": "c74ffa89",
   "metadata": {},
   "outputs": [],
   "source": [
    "# if you'd rather not use the command line, put the path to your file here\n",
    "\n",
    "def handwritten_conversion(fileName,background_image,alphabet_folder,file_save_name):\n",
    "    \n",
    "\n",
    "    \n",
    "    \n",
    "    txt=open(fileName, \"r\")   \n",
    "\n",
    "\n",
    "    BG=Image.open(alphabet_folder+\"//bg.png\") #path of page(background)photo (I have used blank page)\n",
    "    sheet_width=BG.width\n",
    "    gap, ht = 100, 100\n",
    "\n",
    "\n",
    "    # for each letter in the uploaded txt file, read the unicode value and replace it with\n",
    "    # the corresponding handwritten file in the \"myfont\" folder.\n",
    "    for i in txt.read().replace(\"\\n\",\"\"):\n",
    "            cases = Image.open(alphabet_folder+\"//{}.png\".format(str(ord(i))))\n",
    "            cases=cases.resize((50, 50))\n",
    "            BG.paste(cases, (gap, ht))\n",
    "            size = cases.width\n",
    "           \n",
    "            height=cases.height\n",
    "            \n",
    "            \n",
    "            gap+=size\n",
    "\n",
    "            if sheet_width < gap or len(i)*115 >(sheet_width-gap):\n",
    "                gap,ht=0,ht+140\n",
    "\n",
    "    \n",
    "#     BG.show()\n",
    "    BG.save(file_save_name)"
   ]
  },
  {
   "cell_type": "code",
   "execution_count": 44,
   "id": "bc659b2c",
   "metadata": {},
   "outputs": [],
   "source": [
    "import glob\n",
    "save_folder=r'C:\\Users\\Ajay\\Documents\\Code\\EXL\\Projects\\PaperlessAuditPOC\\Arange_character_data\\final_handwrittings'\n",
    "persons=glob.glob(r'C:\\Users\\Ajay\\Documents\\Code\\EXL\\Projects\\Data\\handwritten_alphabets\\*')\n",
    "for person in persons:\n",
    "\n",
    "    background_image=person+\"\\\\bg.png\"\n",
    "    fileName=\"dumpy_text.txt\"\n",
    "    handwritten_conversion(fileName,background_image,person,save_folder+\"\\\\\"+person.split(\"\\\\\")[-1]+\".png\")"
   ]
  },
  {
   "cell_type": "code",
   "execution_count": 42,
   "id": "8f3de5e3",
   "metadata": {},
   "outputs": [
    {
     "data": {
      "text/plain": [
       "'C:\\\\Users\\\\Ajay\\\\Documents\\\\Code\\\\EXL\\\\Projects\\\\PaperlessAuditPOC\\\\Arange_character_data\\\\final_handwrittingsperson9.png'"
      ]
     },
     "execution_count": 42,
     "metadata": {},
     "output_type": "execute_result"
    }
   ],
   "source": [
    "r\"C:\\Users\\Ajay\\Documents\\Code\\EXL\\Projects\\PaperlessAuditPOC\\Arange_character_data\\final_handwrittings\"+person.split(\"\\\\\")[-1]+\".png\""
   ]
  },
  {
   "cell_type": "code",
   "execution_count": null,
   "id": "5db4c719",
   "metadata": {},
   "outputs": [],
   "source": []
  }
 ],
 "metadata": {
  "kernelspec": {
   "display_name": "Python 3 (ipykernel)",
   "language": "python",
   "name": "python3"
  },
  "language_info": {
   "codemirror_mode": {
    "name": "ipython",
    "version": 3
   },
   "file_extension": ".py",
   "mimetype": "text/x-python",
   "name": "python",
   "nbconvert_exporter": "python",
   "pygments_lexer": "ipython3",
   "version": "3.9.13"
  }
 },
 "nbformat": 4,
 "nbformat_minor": 5
}
