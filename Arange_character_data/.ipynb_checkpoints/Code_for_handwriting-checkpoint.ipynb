{
 "cells": [
  {
   "cell_type": "code",
   "execution_count": 1,
   "id": "4c386990",
   "metadata": {},
   "outputs": [
    {
     "name": "stdout",
     "output_type": "stream",
     "text": [
      "Requirement already satisfied: pillow in c:\\users\\ajay\\anaconda3\\lib\\site-packages (9.2.0)Note: you may need to restart the kernel to use updated packages.\n",
      "\n"
     ]
    }
   ],
   "source": [
    "pip install pillow"
   ]
  },
  {
   "cell_type": "code",
   "execution_count": 2,
   "id": "c3c71cb2",
   "metadata": {},
   "outputs": [],
   "source": [
    "#Importing Library\n",
    "from PIL import Image\n",
    "from sys import argv\n",
    "\n",
    "\n",
    "\n",
    "\n"
   ]
  },
  {
   "cell_type": "code",
   "execution_count": 31,
   "id": "f001ca43",
   "metadata": {},
   "outputs": [],
   "source": [
    "# if you'd rather not use the command line, put the path to your file here\n",
    "\n",
    "def handwritten_conversion(fileName,background_image,alphabet_folder):\n",
    "    \n",
    "\n",
    "    # read file that user wants converted from command line. If file can't be read, assign \n",
    "    # the file to a file in the directory\n",
    "    try:\n",
    "        txt=open(argv[1], \"r\")\n",
    "    except IndexError:\n",
    "        print(\"No file entered. Using default file...\")\n",
    "        txt=open(fileName, \"r\")\n",
    "    except FileNotFoundError:\n",
    "        print(\"Could not find file. Using default file...\")\n",
    "        txt=open(fileName, \"r\")   \n",
    "\n",
    "\n",
    "    BG=Image.open(alphabet_folder+\"//bg.png\") #path of page(background)photo (I have used blank page)\n",
    "    sheet_width=BG.width\n",
    "    gap, ht = 100, 100\n",
    "\n",
    "\n",
    "    # for each letter in the uploaded txt file, read the unicode value and replace it with\n",
    "    # the corresponding handwritten file in the \"myfont\" folder.\n",
    "    for i in txt.read().replace(\"\\n\",\"\"):\n",
    "            cases = Image.open(alphabet_folder+\"//{}.png\".format(str(ord(i))))\n",
    "            cases=cases.resize((50, 50))\n",
    "            BG.paste(cases, (gap, ht))\n",
    "            size = cases.width\n",
    "           \n",
    "            height=cases.height\n",
    "            \n",
    "            print(size)\n",
    "            print(\"Running...........\")\n",
    "            gap+=size\n",
    "\n",
    "            if sheet_width < gap or len(i)*115 >(sheet_width-gap):\n",
    "                gap,ht=0,ht+140\n",
    "\n",
    "    print(gap)\n",
    "    print(sheet_width)\n",
    "    BG.show()"
   ]
  },
  {
   "cell_type": "code",
   "execution_count": 32,
   "id": "80b94ec8",
   "metadata": {},
   "outputs": [
    {
     "name": "stdout",
     "output_type": "stream",
     "text": [
      "Could not find file. Using default file...\n",
      "50\n",
      "Running...........\n",
      "50\n",
      "Running...........\n",
      "50\n",
      "Running...........\n",
      "50\n",
      "Running...........\n",
      "50\n",
      "Running...........\n",
      "50\n",
      "Running...........\n",
      "50\n",
      "Running...........\n",
      "50\n",
      "Running...........\n",
      "50\n",
      "Running...........\n",
      "50\n",
      "Running...........\n",
      "50\n",
      "Running...........\n",
      "50\n",
      "Running...........\n",
      "50\n",
      "Running...........\n",
      "50\n",
      "Running...........\n",
      "50\n",
      "Running...........\n",
      "50\n",
      "Running...........\n",
      "50\n",
      "Running...........\n",
      "50\n",
      "Running...........\n",
      "50\n",
      "Running...........\n",
      "50\n",
      "Running...........\n",
      "50\n",
      "Running...........\n",
      "50\n",
      "Running...........\n",
      "50\n",
      "Running...........\n",
      "50\n",
      "Running...........\n",
      "1300\n",
      "2632\n"
     ]
    }
   ],
   "source": [
    "\n",
    "alphabet_folder=r\"C:\\Users\\Ajay\\Documents\\Code\\EXL\\Projects\\Data\\handwritten_alphabets\\person2\"\n",
    "background_image=r\"C:\\Users\\Ajay\\Documents\\Code\\EXL\\Projects\\Data\\handwritten_alphabets\\person2\\bg.png\"\n",
    "fileName=\"dumpy_text.txt\"\n",
    "handwritten_conversion(fileName,background_image,alphabet_folder)"
   ]
  },
  {
   "cell_type": "code",
   "execution_count": null,
   "id": "b7a56098",
   "metadata": {},
   "outputs": [],
   "source": []
  }
 ],
 "metadata": {
  "kernelspec": {
   "display_name": "Python 3 (ipykernel)",
   "language": "python",
   "name": "python3"
  },
  "language_info": {
   "codemirror_mode": {
    "name": "ipython",
    "version": 3
   },
   "file_extension": ".py",
   "mimetype": "text/x-python",
   "name": "python",
   "nbconvert_exporter": "python",
   "pygments_lexer": "ipython3",
   "version": "3.9.13"
  }
 },
 "nbformat": 4,
 "nbformat_minor": 5
}
